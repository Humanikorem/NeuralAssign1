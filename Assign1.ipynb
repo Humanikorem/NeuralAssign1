{
 "cells": [
  {
   "cell_type": "code",
   "execution_count": 2,
   "metadata": {},
   "outputs": [
    {
     "name": "stdout",
     "output_type": "stream",
     "text": [
      "ntyp\n"
     ]
    }
   ],
   "source": [
    "def reverse(str): # Define string  \n",
    " return str[::-1] #To return the output \n",
    "x=(\"python\".replace('ho','')) #To replace the character \n",
    "print(reverse(x))"
   ]
  },
  {
   "cell_type": "code",
   "execution_count": 4,
   "metadata": {},
   "outputs": [
    {
     "name": "stdout",
     "output_type": "stream",
     "text": [
      "sum =  5\n",
      "diff =  -1\n",
      "Divide =  0.6666666666666666\n",
      "Percentage =  2\n"
     ]
    }
   ],
   "source": [
    "a=2 #number1 \n",
    "b=3 #number2 \n",
    "print(\"sum = \",a+b) #Addition of 2 numbers \n",
    "print(\"diff = \",a-b) #Difference between 2 numbers \n",
    "print(\"Divide = \", a/b) #Division \n",
    "print(\"Percentage = \", a%b)#Percentage"
   ]
  },
  {
   "cell_type": "code",
   "execution_count": 6,
   "metadata": {},
   "outputs": [
    {
     "name": "stdout",
     "output_type": "stream",
     "text": [
      "I love playing with pythons\n"
     ]
    }
   ],
   "source": [
    "str=\"I love playing with python\"\n",
    "print(str.replace('python','pythons')) #To replace one string with another"
   ]
  },
  {
   "cell_type": "code",
   "execution_count": 9,
   "metadata": {},
   "outputs": [
    {
     "name": "stdout",
     "output_type": "stream",
     "text": [
      "Your grade is F\n"
     ]
    }
   ],
   "source": [
    "sub1=10 \n",
    "sub2=30 \n",
    "total=sub1+sub2\n",
    "if(total>=90): \n",
    " print(\"Your grade is A\") \n",
    "elif(total>=70 and total<90): \n",
    " print(\"Your grade is B\") \n",
    "elif(total>=50 and total <70): \n",
    " print(\"Your grade is C\") \n",
    "else: \n",
    " print(\"Your grade is F\")"
   ]
  }
 ],
 "metadata": {
  "kernelspec": {
   "display_name": "Python 3",
   "language": "python",
   "name": "python3"
  },
  "language_info": {
   "codemirror_mode": {
    "name": "ipython",
    "version": 3
   },
   "file_extension": ".py",
   "mimetype": "text/x-python",
   "name": "python",
   "nbconvert_exporter": "python",
   "pygments_lexer": "ipython3",
   "version": "3.11.2"
  }
 },
 "nbformat": 4,
 "nbformat_minor": 2
}
